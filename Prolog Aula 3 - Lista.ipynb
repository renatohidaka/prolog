{
 "cells": [
  {
   "cell_type": "markdown",
   "id": "912b2063",
   "metadata": {},
   "source": [
    "## Aula 3: Lista"
   ]
  },
  {
   "cell_type": "markdown",
   "id": "dc3cabc0",
   "metadata": {},
   "source": [
    "<p style=\"font-size: 20px; text-align: justify; line-height: 1.6\"><strong>Definição 1:</strong> No Prolog, a lista é heterogênea, ou seja, permite que qualqer tipo de dado seja armazenado em sua estrutura.</p>"
   ]
  },
  {
   "cell_type": "markdown",
   "id": "db265264",
   "metadata": {},
   "source": [
    "### Exemplo: [mia, 2, ponto(4, -2), X, [2,1]]"
   ]
  },
  {
   "cell_type": "markdown",
   "id": "05299507",
   "metadata": {},
   "source": [
    "<p style=\"font-size: 20px; text-align: justify; line-height: 1.6\"><strong>Definição 2:</strong> No Prolog, assim como nas outras linguagens, o menor tamanho de uma lista é zero, implicando em uma lista vazia.</p>"
   ]
  },
  {
   "cell_type": "markdown",
   "id": "04bd5d1f",
   "metadata": {},
   "source": [
    "### Exemplo: []"
   ]
  },
  {
   "cell_type": "markdown",
   "id": "4d7728ec",
   "metadata": {},
   "source": [
    "<p style=\"font-size: 20px; text-align: justify; line-height: 1.6\"><strong>Definição 3:</strong> No Prolog, toda lista não vazia pode ser vista como uma lista contendo duas partes: cabeça e cauda. A cabeça da lista é representada pelo primeiro elemento da lista. A cauda da lista é representada por todo o restante, menos a cabeça.</p>"
   ]
  },
  {
   "cell_type": "markdown",
   "id": "b9e4ce1c",
   "metadata": {},
   "source": [
    "<p style=\"font-size: 20px; text-align: justify; line-height: 1.6\"><strong>Exemplos:</strong></p>"
   ]
  },
  {
   "cell_type": "markdown",
   "id": "354ae1af",
   "metadata": {},
   "source": [
    "<p style=\"font-size: 20px; text-align: justify; line-height: 1.6\">Considerando a lista <strong>[mia, vicent, yolanda, bob]</strong>, quem é a cabeça e quem é a calda?</p>"
   ]
  },
  {
   "cell_type": "markdown",
   "id": "26eb25de",
   "metadata": {},
   "source": [
    "<p style=\"font-size: 20px; text-align: justify; line-height: 1.6\">Considerando a lista <strong>[mia]</strong>, quem é a cabeça e quem é a calda?</p>"
   ]
  },
  {
   "cell_type": "markdown",
   "id": "a47fa172",
   "metadata": {},
   "source": [
    "<p style=\"font-size: 20px; text-align: justify; line-height: 1.6\"><strong>Definição 3:</strong> Para extrair elementos de uma lista, utilizamos o operador |</p>"
   ]
  },
  {
   "cell_type": "markdown",
   "id": "a0ba574c",
   "metadata": {},
   "source": [
    "### Exemplo:"
   ]
  },
  {
   "cell_type": "markdown",
   "id": "e52e2493",
   "metadata": {},
   "source": [
    "<p style=\"font-size: 20px; text-align: justify; line-height: 1.6\">Seja a lista <strong>[mia, vicent, yolanda, bob]</strong>, extraímos a cabeça e calda da seguinte forma:</p>"
   ]
  },
  {
   "cell_type": "code",
   "execution_count": null,
   "id": "9d147f83",
   "metadata": {},
   "outputs": [],
   "source": [
    "[Head | Tail] = [mia, vicent, yolanda, bob]"
   ]
  },
  {
   "cell_type": "markdown",
   "id": "5bb17017",
   "metadata": {},
   "source": [
    "<p style=\"font-size: 20px; text-align: justify; line-height: 1.6\">Nesse exemplo, a variável <strong>Head</strong> vai armazenar o termo <strong>mia</strong> e a variável <strong>Tail</strong> a sublista <strong>[vicent, yolanda, bob]</strong>.</p>"
   ]
  },
  {
   "cell_type": "markdown",
   "id": "e79e3470",
   "metadata": {},
   "source": [
    "### Exemplo"
   ]
  },
  {
   "cell_type": "markdown",
   "id": "b3d5af93",
   "metadata": {},
   "source": [
    "<p style=\"font-size: 20px; text-align: justify; line-height: 1.6\">Seja a lista <strong>[mia, vicent, yolanda, bob]</strong>, podemos extrair mais de um elemento na cabeça da seguinte forma:</p>"
   ]
  },
  {
   "cell_type": "code",
   "execution_count": null,
   "id": "892bfd07",
   "metadata": {},
   "outputs": [],
   "source": [
    "[X, Y | Z] = [mia, vicent, yolanda, bob]"
   ]
  },
  {
   "cell_type": "markdown",
   "id": "a1faf96d",
   "metadata": {},
   "source": [
    "<p style=\"font-size: 20px; text-align: justify; line-height: 1.6\">Nesse exemplo, quais os valores das variáveis X, Y e Z?</p>"
   ]
  },
  {
   "cell_type": "markdown",
   "id": "0ad27251",
   "metadata": {},
   "source": [
    "### Exemplo"
   ]
  },
  {
   "cell_type": "markdown",
   "id": "8ed67b95",
   "metadata": {},
   "source": [
    "<p style=\"font-size: 20px; text-align: justify; line-height: 1.6\">Seja a lista <strong>[mia, vicent, yolanda, bob]</strong>, podemos extrair um elemento em uma posição específica da lista da seguinte forma:</p>"
   ]
  },
  {
   "cell_type": "code",
   "execution_count": null,
   "id": "9543f4b8",
   "metadata": {},
   "outputs": [],
   "source": [
    "[_, X | Z] = [mia, vicent, yolanda, bob]"
   ]
  },
  {
   "cell_type": "markdown",
   "id": "be46fb8b",
   "metadata": {},
   "source": [
    "<p style=\"font-size: 20px; text-align: justify; line-height: 1.6\">Nesse exemplo, estamos utilizando uma variável anônima para ignorar o elemento da primeira posição da lista e definindo a variável X para armazenar o elemento da segunda posição da lista. A calda está sendo armazenada em Z.</p>"
   ]
  },
  {
   "cell_type": "markdown",
   "id": "5bf3e465",
   "metadata": {},
   "source": [
    "<p style=\"font-size: 20px; text-align: justify; line-height: 1.6\">Agora que já sabemos como o operador | funciona, vamos construir alguns programas de manipulação básica:</p>"
   ]
  },
  {
   "cell_type": "markdown",
   "id": "0fa2ffdb",
   "metadata": {},
   "source": [
    "<p style=\"font-size: 20px; text-align: justify; line-height: 1.6\"><strong>P1:</strong> Somar os elementos de uma lista.</p>"
   ]
  },
  {
   "cell_type": "markdown",
   "id": "a784f177",
   "metadata": {},
   "source": [
    "### Versão 1"
   ]
  },
  {
   "cell_type": "code",
   "execution_count": null,
   "id": "6727f160",
   "metadata": {},
   "outputs": [],
   "source": [
    "soma(L, R) :- soma(L, 0, R).\n",
    "soma([], R, R) :- !.\n",
    "soma([H | T], Acc, R) :- A is H+Acc,\n",
    "                         soma(T, A, R)."
   ]
  },
  {
   "cell_type": "markdown",
   "id": "5680d04f",
   "metadata": {},
   "source": [
    "### Versão 2"
   ]
  },
  {
   "cell_type": "code",
   "execution_count": null,
   "id": "71288627",
   "metadata": {},
   "outputs": [],
   "source": [
    "soma([], 0).\n",
    "soma([H | T], N) :- soma(T, N1), N is N1 + H."
   ]
  },
  {
   "cell_type": "markdown",
   "id": "282f30cb",
   "metadata": {},
   "source": [
    "<p style=\"font-size: 20px; text-align: justify; line-height: 1.6\"><strong>P2:</strong> Calcular o tamanho de uma lista.</p>"
   ]
  },
  {
   "cell_type": "markdown",
   "id": "f163ae66",
   "metadata": {},
   "source": [
    "### Versão 1"
   ]
  },
  {
   "cell_type": "code",
   "execution_count": null,
   "id": "5e088c87",
   "metadata": {},
   "outputs": [],
   "source": [
    "tamanho(L, R) :- tamanho(L, 0, R).\n",
    "tamanho([], R, R) :- !.\n",
    "tamanho([_ | T], Acc, R) :- A is 1+Acc,\n",
    "                            tamanho(T, A, R)."
   ]
  },
  {
   "cell_type": "markdown",
   "id": "997f5a32",
   "metadata": {},
   "source": [
    "### Versão 2"
   ]
  },
  {
   "cell_type": "code",
   "execution_count": null,
   "id": "8c3f9c5e",
   "metadata": {},
   "outputs": [],
   "source": [
    "tamanho([], 0).\n",
    "tamanho([_ | T], N) :- tamanho(T, N1), N is N1 + 1."
   ]
  },
  {
   "cell_type": "markdown",
   "id": "e13694f8",
   "metadata": {},
   "source": [
    "<p style=\"font-size: 20px; text-align: justify; line-height: 1.6\"><strong>P3:</strong> Verificar se um elemento está na lista.</p>"
   ]
  },
  {
   "cell_type": "code",
   "execution_count": null,
   "id": "01236df9",
   "metadata": {},
   "outputs": [],
   "source": [
    "contem(H, [H | _]) :- !.\n",
    "contem(H, [_ | T]) :- contem(H, T)."
   ]
  },
  {
   "cell_type": "markdown",
   "id": "7f5a81df",
   "metadata": {},
   "source": [
    "<p style=\"font-size: 20px; text-align: justify; line-height: 1.6\"><strong>P4:</strong> Encontrar o maior valor da lista.</p>"
   ]
  },
  {
   "cell_type": "markdown",
   "id": "6b1e4269",
   "metadata": {},
   "source": [
    "### Versão 1"
   ]
  },
  {
   "cell_type": "code",
   "execution_count": null,
   "id": "1c2b5fd1",
   "metadata": {},
   "outputs": [],
   "source": [
    "maior([X | T], R) :- maior(T, X, R).\n",
    "maior([], R, R) :- !.\n",
    "maior([X | T], Max, R) :- Max1 is max(X, Max),\n",
    "                          maior(T, Max1, R)."
   ]
  },
  {
   "cell_type": "markdown",
   "id": "b9d651d2",
   "metadata": {},
   "source": [
    "### Versão 2"
   ]
  },
  {
   "cell_type": "code",
   "execution_count": null,
   "id": "4f4d9742",
   "metadata": {},
   "outputs": [],
   "source": [
    "maior([X], X) :- !.\n",
    "maior([X | T], Max) :- maior(T, Max1), Max is max(X, Max1)."
   ]
  },
  {
   "cell_type": "markdown",
   "id": "d3f0dd1a",
   "metadata": {},
   "source": [
    "<p style=\"font-size: 20px; text-align: justify; line-height: 1.6\"><strong>P5:</strong> Recuperar um elemento pelo índice.</p>"
   ]
  },
  {
   "cell_type": "code",
   "execution_count": null,
   "id": "fd61f377",
   "metadata": {},
   "outputs": [],
   "source": [
    "recuperar_por_indice([X | _], 0, X) :- !.\n",
    "recuperar_por_indice([_ | Xs], I, E) :- Ix is I-1, \n",
    "                                        recuperar_por_indice(Xs, Ix, E)."
   ]
  },
  {
   "cell_type": "markdown",
   "id": "f91551a2",
   "metadata": {},
   "source": [
    "<p style=\"font-size: 20px; text-align: justify; line-height: 1.6\"><strong>P6:</strong> Recuperar o índice de um elemento.</p>"
   ]
  },
  {
   "cell_type": "markdown",
   "id": "e56d1c50",
   "metadata": {},
   "source": [
    "### Versão 1"
   ]
  },
  {
   "cell_type": "code",
   "execution_count": null,
   "id": "1b34d689",
   "metadata": {},
   "outputs": [],
   "source": [
    "recuperar_indice(L, E, R) :- recuperar_indice(L, E, 0, R).\n",
    "recuperar_indice([E | _], E, R, R) :- !.\n",
    "recuperar_indice([_ | Xs], E, Acc, R) :- Acc1 is Acc + 1,\n",
    "                                         recuperar_indice(Xs, E, Acc1, R)."
   ]
  },
  {
   "cell_type": "markdown",
   "id": "20126c89",
   "metadata": {},
   "source": [
    "### Versão 2"
   ]
  },
  {
   "cell_type": "code",
   "execution_count": null,
   "id": "5139646b",
   "metadata": {},
   "outputs": [],
   "source": [
    "recuperar_indice([E | _], E, 0) :- !.\n",
    "recuperar_indice([_ | Xs], E, I) :- recuperar_indice(Xs, E, I1), \n",
    "                                    I is I1 + 1."
   ]
  },
  {
   "cell_type": "markdown",
   "id": "42a60420",
   "metadata": {},
   "source": [
    "<p style=\"font-size: 20px; text-align: justify; line-height: 1.6\"><strong>P7:</strong> Somar duas listas dois a dois.</p>"
   ]
  },
  {
   "cell_type": "markdown",
   "id": "401f7ffe",
   "metadata": {},
   "source": [
    "### Versão 1"
   ]
  },
  {
   "cell_type": "code",
   "execution_count": null,
   "id": "e7423526",
   "metadata": {},
   "outputs": [],
   "source": [
    "somar([], [], []).\n",
    "somar(L1, L2, R) :- somar(L1, L2, [], R).\n",
    "\n",
    "somar([], [], R, R) :- !.\n",
    "somar([X | L1], [Y | L2], AUX, R) :- Z is X + Y,\n",
    "                                     somar(L1, L2, [Z | AUX], R)."
   ]
  },
  {
   "cell_type": "markdown",
   "id": "791aabdd",
   "metadata": {},
   "source": [
    "<p style=\"font-size: 20px; text-align: justify; line-height: 1.6\">Essa <strong>versão 1</strong> tem um problema, você consegue identificar qual e por quê?</p>"
   ]
  },
  {
   "cell_type": "markdown",
   "id": "840fb7fa",
   "metadata": {},
   "source": [
    "### Versão 2"
   ]
  },
  {
   "cell_type": "code",
   "execution_count": null,
   "id": "12ba7c3d",
   "metadata": {},
   "outputs": [],
   "source": [
    "somar([], [], []).\n",
    "somar(L1, L2, R) :- somar(L1, L2, [], R).\n",
    "\n",
    "somar([], [], R, R) :- !.\n",
    "somar([X | L1], [Y | L2], AUX, R) :- Z is X + Y,\n",
    "                                     append(AUX, [Z], AUX1),\n",
    "                                     somar(L1, L2, AUX1, R)."
   ]
  },
  {
   "cell_type": "markdown",
   "id": "258d878f",
   "metadata": {},
   "source": [
    "<p style=\"font-size: 20px; text-align: justify; line-height: 1.6\">Na <strong>versão 2</strong>, estamos corrigindo o problema da <strong>versão 1</strong>, utilizando a regra <strong>append</strong>.</p>"
   ]
  },
  {
   "cell_type": "markdown",
   "id": "425b8d1b",
   "metadata": {},
   "source": [
    "### Versão 3"
   ]
  },
  {
   "cell_type": "code",
   "execution_count": null,
   "id": "0fc80479",
   "metadata": {},
   "outputs": [],
   "source": [
    "somar([], [], []).\n",
    "somar([X | Xs], [Y | Ys], [Z | Zs]) :- Z is X + Y, \n",
    "                                       somar(Xs, Ys, Zs).\n"
   ]
  },
  {
   "cell_type": "markdown",
   "id": "937781ca",
   "metadata": {},
   "source": [
    "### Exercício"
   ]
  }
 ],
 "metadata": {
  "kernelspec": {
   "display_name": "SWI-Prolog",
   "language": "",
   "name": "jswipl"
  },
  "language_info": {
   "mimetype": "text/plain",
   "name": "swipl"
  }
 },
 "nbformat": 4,
 "nbformat_minor": 5
}
