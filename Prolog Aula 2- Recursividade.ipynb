{
 "cells": [
  {
   "cell_type": "markdown",
   "id": "919c3e8b",
   "metadata": {},
   "source": [
    "## Aula 2: Recursividade"
   ]
  },
  {
   "cell_type": "markdown",
   "id": "f0883f39",
   "metadata": {},
   "source": [
    "<p style=\"font-size: 20px; text-align: justify;\"> <strong>Definição 01:</strong> Uma função é recursiva quando ela faz chamadas a sí mesma.</p>"
   ]
  },
  {
   "cell_type": "markdown",
   "id": "2839b587",
   "metadata": {},
   "source": [
    "<p style=\"font-size: 20px; text-align: justify;  line-height: 1.6\"> <strong>Definição 02:</strong> Em uma função recursiva há a necessidade da definição do passo base, que implica a condição de parada da recursividade.</p>"
   ]
  },
  {
   "cell_type": "markdown",
   "id": "8e1cfc28",
   "metadata": {},
   "source": [
    "<p style=\"font-size: 20px; text-align: justify;\"> Por exemplo, vamos construir uma função recursiva clássica para calcular o fatorial de N.</p>"
   ]
  },
  {
   "cell_type": "code",
   "execution_count": null,
   "id": "2a78d413",
   "metadata": {},
   "outputs": [],
   "source": [
    "fatorial(N):\n",
    "    if N == 1 or N == 0:\n",
    "        return 1\n",
    "    return N * fatorial(N-1)"
   ]
  },
  {
   "cell_type": "markdown",
   "id": "55df6195",
   "metadata": {},
   "source": [
    "<p style=\"font-size: 20px; text-align: justify; line-height: 1.6\">Em uma chamada recursiva, o interpretador faz o empilhamento das chamadas até chegar no passo base. Ao chegar no passo base, inicia-se o processo de desempilhamento. Vejamos um exemplo para o fatorial(5).</p>"
   ]
  },
  {
   "cell_type": "markdown",
   "id": "a2c5e26e",
   "metadata": {},
   "source": [
    "<p style=\"font-size: 20px; text-align: justify;\"> Outra versão de código recursivo, poderia ser a seguinte:</p>"
   ]
  },
  {
   "cell_type": "code",
   "execution_count": null,
   "id": "12b53d2d",
   "metadata": {},
   "outputs": [],
   "source": [
    "fatorial(N, Acc=1):\n",
    "    if N == 1 or N == 0:        \n",
    "        return Acc\n",
    "    return fatorial(N-1, Acc*N)"
   ]
  },
  {
   "cell_type": "markdown",
   "id": "7db65862",
   "metadata": {},
   "source": [
    "<p style=\"font-size: 20px; text-align: justify;  line-height: 1.6\">Nesse exemplo, o valor calculado já está sendo armazenado no segundo parâmetro da função. Essa versão recursiva que armazena o valor calculado em um parâmetro da função se parece mais com a forma como o Prolog trabalha a recursividade.</p>"
   ]
  },
  {
   "cell_type": "markdown",
   "id": "57a3f488",
   "metadata": {},
   "source": [
    "<p style=\"font-size: 20px; text-align: justify;\"> <strong>Exemplo:</strong> Vamos codificar o fatorial no Prolog:</p>"
   ]
  },
  {
   "cell_type": "markdown",
   "id": "366ff5cc",
   "metadata": {},
   "source": [
    "### Fatorial versão 01:"
   ]
  },
  {
   "cell_type": "code",
   "execution_count": null,
   "id": "e6b0fa71",
   "metadata": {},
   "outputs": [],
   "source": [
    "fatorial(N, R) :- N =:= 0, R is 1.\n",
    "fatorial(N, R) :- N =:= 1, R is 1.   \n",
    "fatorial(N, R) :- fatorial_aux(N, N, R).\n",
    "    \n",
    "fatorial_aux(N, Acc, R) :- N =:=1, R is Acc.\n",
    "fatorial_aux(N, Acc, R) :- N > 1,\n",
    "                           Aux is N - 1,\n",
    "                           Acc1 is Acc * Aux,\n",
    "                           fatorial_aux(Aux, Acc1, R).  "
   ]
  },
  {
   "cell_type": "markdown",
   "id": "d90aebc1",
   "metadata": {},
   "source": [
    "<p style=\"font-size: 20px; text-align: justify;\"> Nessa primeira versão, devemos observar que:</p>"
   ]
  },
  {
   "cell_type": "markdown",
   "id": "8a3a8bd4",
   "metadata": {},
   "source": [
    "<p style=\"font-size: 20px; text-align: justify;\"><strong>1-</strong> A base de conhecimento é composta por cinco regras.</p>"
   ]
  },
  {
   "cell_type": "markdown",
   "id": "8dd5c3f6",
   "metadata": {},
   "source": [
    "<p style=\"font-size: 20px; text-align: justify;\"><strong>2-</strong> Três regras utilizam o predicado fatorial e duas regras utilizam o predicado fatorial_aux.</p>"
   ]
  },
  {
   "cell_type": "markdown",
   "id": "407fbf29",
   "metadata": {},
   "source": [
    "<p style=\"font-size: 20px; text-align: justify;\"><strong>3-</strong> A primeira regra será verdadeira se N for igual a zero e R for 1.</p>"
   ]
  },
  {
   "cell_type": "markdown",
   "id": "4d01f98d",
   "metadata": {},
   "source": [
    "<p style=\"font-size: 20px; text-align: justify;\"><strong>Observação:</strong> No Prolog, o perador relacional de igualdade é =:=</p>"
   ]
  },
  {
   "cell_type": "markdown",
   "id": "1d19e107",
   "metadata": {},
   "source": [
    "<p style=\"font-size: 20px; text-align: justify; line-height: 1.6\"><strong>Observação</strong> No Prolog, <strong>is</strong> é uma palavra reservada que pode ser utilizada para realizar uma atribuição numérica a uma variável.</p>"
   ]
  },
  {
   "cell_type": "markdown",
   "id": "bff6120a",
   "metadata": {},
   "source": [
    "<p style=\"font-size: 20px; text-align: justify;\"><strong>4-</strong> A segunda regra será verdadeira se N for igual a um e R for 1.</p>"
   ]
  },
  {
   "cell_type": "markdown",
   "id": "80980f11",
   "metadata": {},
   "source": [
    "<p style=\"font-size: 20px; text-align: justify; line-height: 1.6\"><strong>5-</strong> O corpo da terceira regra é formado por uma cláusula da base de conhecimento, portanto, a terceira regra será verdadeira quando o seu corpo for verdadeiro.</p>"
   ]
  },
  {
   "cell_type": "markdown",
   "id": "bc8f0728",
   "metadata": {},
   "source": [
    "<p style=\"font-size: 20px; text-align: justify;\"><strong>6-</strong> A quarta regra será verdadeira se N for igual a um e R for Acc.</p>"
   ]
  },
  {
   "cell_type": "markdown",
   "id": "b408dbc3",
   "metadata": {},
   "source": [
    "<p style=\"font-size: 20px; text-align: justify;  line-height: 1.6\"><strong>7-</strong> Na quinta regra é onde o fatorial, de fato, está sendo calculado. O corpo dessa regra possui quatro partes unidas por conjunção (E). A última parte do corpo da regra implica uma chamada recursiva, os valores passados na chamada recursiva são previamente calculados nas partes anteriores que formam o corpo da regra. Conforme a primeira parte do corpo da regra, essa chamada recursiva irá empilhar, enquanto N > 1.</p>"
   ]
  },
  {
   "cell_type": "markdown",
   "id": "b4152bc2",
   "metadata": {},
   "source": [
    "<p style=\"font-size: 20px; text-align: justify;\"> Nessa versão, vamos observar o seguinte:</p>"
   ]
  },
  {
   "cell_type": "markdown",
   "id": "c5609e4e",
   "metadata": {},
   "source": [
    "<p style=\"font-size: 20px; text-align: justify;\"> <strong>Q1:</strong> Por que ao calcular o fatorial, além do valor de R, também é exibido o valor <strong>false</strong>?</p>"
   ]
  },
  {
   "cell_type": "markdown",
   "id": "64cebf8d",
   "metadata": {},
   "source": [
    "<p style=\"font-size: 20px; text-align: justify;\"> <strong>Q2:</strong> O que acontece se retiramos N > 1 do corpo da quinta regra?</p>"
   ]
  },
  {
   "cell_type": "markdown",
   "id": "81bdc1ec",
   "metadata": {},
   "source": [
    "### Fatorial versão 02:"
   ]
  },
  {
   "cell_type": "code",
   "execution_count": null,
   "id": "92c78d49",
   "metadata": {},
   "outputs": [],
   "source": [
    "fatorial(N, R) :- N =:= 0, R is 1, !.\n",
    "fatorial(N, R) :- N =:= 1, R is 1, !.   \n",
    "fatorial(N, R) :- fatorial_aux(N, N, R).\n",
    "    \n",
    "fatorial_aux(N, Acc, R) :- N =:=1, R is Acc, !.\n",
    "fatorial_aux(N, Acc, R) :- Aux is N - 1,\n",
    "                           Acc1 is Acc * Aux,\n",
    "                           fatorial_aux(Aux, Acc1, R).  "
   ]
  },
  {
   "cell_type": "markdown",
   "id": "d8b6880c",
   "metadata": {},
   "source": [
    "<p style=\"font-size: 20px; text-align: justify;  line-height: 1.6\">No Prolog, o símbolo de exclamação, denominado <strong>cut</strong>, informar que se a clásula for verdadeira, não há necessidade do algoritmo backtracking continuar a varredura na base de conhecimento.</p>"
   ]
  },
  {
   "cell_type": "markdown",
   "id": "c4e0d6d4",
   "metadata": {},
   "source": [
    "<p style=\"font-size: 20px; text-align: justify;  line-height: 1.6\">Nessa versão 2, nós utilizamos o <strong>cut</strong> nas duas clásulas que determinam as regras do zero e um do fatorial, bem como na cláusla do passo base da recursão.</p>"
   ]
  },
  {
   "cell_type": "markdown",
   "id": "90522f48",
   "metadata": {},
   "source": [
    "<p style=\"font-size: 20px; text-align: justify;  line-height: 1.6\">Ao utilizar o <strong>cut</strong> no passo base da recursão, não precisamos mais da relação N > 1 no corpo da quinta regra.</p>"
   ]
  },
  {
   "cell_type": "markdown",
   "id": "149e6342",
   "metadata": {},
   "source": [
    "<p style=\"font-size: 20px; text-align: justify;  line-height: 1.6\">Vamos agora simplificar ainda mais as regras do zero, do um, e a do passo base.</p>"
   ]
  },
  {
   "cell_type": "markdown",
   "id": "3b809dad",
   "metadata": {},
   "source": [
    "### Fatorial versão 03:"
   ]
  },
  {
   "cell_type": "code",
   "execution_count": null,
   "id": "042609e9",
   "metadata": {},
   "outputs": [],
   "source": [
    "fatorial(0, R) :- R is 1, !.\n",
    "fatorial(1, R) :- R is 1, !.   \n",
    "fatorial(N, R) :- fatorial_aux(N, N, R).\n",
    "    \n",
    "fatorial_aux(1, Acc, R) :- R is Acc, !.\n",
    "fatorial_aux(N, Acc, R) :- Aux is N - 1,\n",
    "                           Acc1 is Acc * Aux,\n",
    "                           fatorial_aux(Aux, Acc1, R)."
   ]
  },
  {
   "cell_type": "markdown",
   "id": "32ebd54d",
   "metadata": {},
   "source": [
    "<p style=\"font-size: 20px; text-align: justify;  line-height: 1.6\">Nesta versão, o objetivo foi eliminar a necessidade das relações de igualdade <strong>=:=</strong> nas três regras que as utilizavam. Essas relações estavam sendo utilizadas para garantir que a regra fosse verdadeira somente quando o valor da variável <strong>N</strong> fosse igual ao valor comparado. Ao utilizar o valor que estava sendo comparado com o termo da cabeça da regra, a regra só dará <strong>match</strong> se o valor passado for o especificado. Desta forma, implicitamente, estamos fazendo a comparação de igualdade.</p>"
   ]
  },
  {
   "cell_type": "markdown",
   "id": "a23af897",
   "metadata": {},
   "source": [
    "<p style=\"font-size: 20px; text-align: justify;  line-height: 1.6\">Vamos agora simplificar ainda mais as regras do zero, do um, e a do passo base.</p>"
   ]
  },
  {
   "cell_type": "markdown",
   "id": "91192ad5",
   "metadata": {},
   "source": [
    "### Fatorial versão 04:"
   ]
  },
  {
   "cell_type": "markdown",
   "id": "169c4094",
   "metadata": {},
   "source": [
    "fatorial(0, 1) :- !.\n",
    "fatorial(1, 1) :- !.   \n",
    "fatorial(N, R) :- fatorial_aux(N, N, R).\n",
    "    \n",
    "fatorial_aux(1, R, R) :- !.\n",
    "fatorial_aux(N, Acc, R) :- Aux is N - 1,\n",
    "                           Acc1 is Acc * Aux,\n",
    "                           fatorial_aux(Aux, Acc1, R)."
   ]
  },
  {
   "cell_type": "markdown",
   "id": "2d37ed7b",
   "metadata": {},
   "source": [
    "<p style=\"font-size: 20px; text-align: justify;  line-height: 1.6\">Nesta versão, o objetivo foi eliminar a necessidade da utilização do <strong>is</strong> para realizar a atribuição da variável <strong>R</strong>. Nas duas primeiras regras, o <strong>is</strong> estava sendo utilizado para determinar que o valor de <strong>R</strong> fosse gual a um. Para simplificar, determinamos o valor 1 como termo da cabeça da regra. </p>"
   ]
  },
  {
   "cell_type": "markdown",
   "id": "607bb7bc",
   "metadata": {},
   "source": [
    "<p style=\"font-size: 20px; text-align: justify;  line-height: 1.6\">Na quarta regra o <strong>is</strong> também estava sendo para utilizado determinar o valor da variável <strong>R</strong>. Porém, nesse caso, a variável <strong>R</strong> recebia o valor da variável <strong>Acc</strong>. Para simplificar e informar que o valor de <strong>Acc</strong> deve ser armazenado em <strong>R</strong>, especificamos <strong>R</strong> como segunda e terceira variável da cabeça.</p>"
   ]
  },
  {
   "cell_type": "markdown",
   "id": "393b0691",
   "metadata": {},
   "source": [
    "<p style=\"font-size: 20px; text-align: justify;  line-height: 1.6\">Agora vamos renomear o predicado <strong>fatorial_aux</strong></p>"
   ]
  },
  {
   "cell_type": "markdown",
   "id": "ccb178d1",
   "metadata": {},
   "source": [
    "### Fatorial versão 05:"
   ]
  },
  {
   "cell_type": "code",
   "execution_count": null,
   "id": "ae350e78",
   "metadata": {},
   "outputs": [],
   "source": [
    "fatorial(0, 1) :- !.\n",
    "fatorial(1, 1) :- !.   \n",
    "fatorial(N, R) :- fatorial(N, N, R).\n",
    "    \n",
    "fatorial(1, R, R) :- !.\n",
    "fatorial(N, Acc, R) :- Aux is N - 1,\n",
    "                       Acc1 is Acc * Aux,\n",
    "                       fatorial(Aux, Acc1, R)."
   ]
  },
  {
   "cell_type": "markdown",
   "id": "f609c1a5",
   "metadata": {},
   "source": [
    "<p style=\"font-size: 20px; text-align: justify;  line-height: 1.6\">Nessa versão, apesar de parecer, não podemos dizar que essa base de conhecimento utiliza somente um predicado. Um predicado além de ser determinado pelo nome, também é determinado pela sua aridade, que corresponde ao número de termos. Portanto, nessa base de conhecimento, estamos utilizando dois predicados, quais sejam:</p>"
   ]
  },
  {
   "cell_type": "markdown",
   "id": "c9cc895f",
   "metadata": {},
   "source": [
    "### fatorial\\2\n",
    "### fatorial\\3"
   ]
  },
  {
   "cell_type": "markdown",
   "id": "3563bebe",
   "metadata": {},
   "source": [
    "<p style=\"font-size: 20px; text-align: justify;  line-height: 1.6\">O predicado <strong>fatorial\\2</strong> está sendo utilizado pelas três primeiras regras e o predicado <strong>fatorial\\3</strong> pelas duas últimas regras.</p>"
   ]
  },
  {
   "cell_type": "markdown",
   "id": "d6e90658",
   "metadata": {},
   "source": [
    "### Fatorial versão 06:"
   ]
  },
  {
   "cell_type": "code",
   "execution_count": null,
   "id": "83509be5",
   "metadata": {},
   "outputs": [],
   "source": [
    "fatorial(0, 1) :- !.\n",
    "fatorial(1, 1) :- !.   \n",
    "fatorial(N, R) :- N1 is N-1, \n",
    "                  fatorial(N1, R1), \n",
    "                  R is R1 *  N."
   ]
  },
  {
   "cell_type": "markdown",
   "id": "07d11dd5",
   "metadata": {},
   "source": [
    "<p style=\"font-size: 20px; text-align: justify;\"> <strong>Exemplo:</strong> Vamos analisar o exemplo do Fibonacci: 0, 1, 1, 2, 3, 5, 8, 13, 21, 34, 55, 89, 144, ...</p>"
   ]
  },
  {
   "cell_type": "markdown",
   "id": "af7b1245",
   "metadata": {},
   "source": [
    "<p style=\"font-size: 20px; text-align: justify;\"> Qual solução é melhor e por quê?</p>"
   ]
  },
  {
   "cell_type": "markdown",
   "id": "a2a099cd",
   "metadata": {},
   "source": [
    "### Solução A"
   ]
  },
  {
   "cell_type": "code",
   "execution_count": null,
   "id": "6c6280c0",
   "metadata": {},
   "outputs": [],
   "source": [
    "fibonacci(N):\n",
    "    if N == 0: return 0\n",
    "    if N == 1: return 1\n",
    "    return fibonacci(N-1)+fibonacci(N-2)"
   ]
  },
  {
   "cell_type": "markdown",
   "id": "83469c4c",
   "metadata": {},
   "source": [
    "### Solução B"
   ]
  },
  {
   "cell_type": "code",
   "execution_count": null,
   "id": "fcd1cc26",
   "metadata": {},
   "outputs": [],
   "source": [
    "fibonacci(N, X=0, Y=1):\n",
    "    if N == 0: return 0\n",
    "    if N == 1: return Y\n",
    "    return fibonacci(N-1, Y, X+Y)\n"
   ]
  },
  {
   "cell_type": "markdown",
   "id": "2dacfa9a",
   "metadata": {},
   "source": [
    "<p style=\"font-size: 20px; text-align: justify;\">Vamos codificar o fibonacci no Prolog:</p>"
   ]
  },
  {
   "cell_type": "markdown",
   "id": "94eb9d7e",
   "metadata": {},
   "source": [
    "### Versão 1"
   ]
  },
  {
   "cell_type": "code",
   "execution_count": null,
   "id": "d2cae464",
   "metadata": {},
   "outputs": [],
   "source": [
    "fibonacci(0, 0) :- !.\n",
    "fibonacci(1, 1) :- !.\n",
    "fibonacci(N, R) :- fibonacci(N, 0, 1, R).\n",
    "fibonacci(1, _, R, R) :- !.\n",
    "fibonacci(N, X, Y, R) :- A is N-1,\n",
    "                         B is Y,\n",
    "                         C is X+Y,\n",
    "                         fibonacci(A, B, C, R)."
   ]
  },
  {
   "cell_type": "markdown",
   "id": "b5292f23",
   "metadata": {},
   "source": [
    "<p style=\"font-size: 20px; text-align: justify; line-height: 1.6\">Nesse exemplo estamos utilizando uma variável anônima no segundo termo da regra correspondente ao passo base da recursão. No Prolog, uma variável anônima deve iniciar com underline. Ao utilizar esse tipo de variável, estamos informando que o valor passado para ela não será utilizado e nem considerado na verificação de match da cláusula.</p>"
   ]
  },
  {
   "cell_type": "markdown",
   "id": "50b1547e",
   "metadata": {},
   "source": [
    "### Versão 2"
   ]
  },
  {
   "cell_type": "code",
   "execution_count": null,
   "id": "a3d12598",
   "metadata": {},
   "outputs": [],
   "source": [
    "fibonacci(0, 0) :- !.\n",
    "fibonacci(1, 1) :- !.\n",
    "fibonacci(N, F) :- N1 is N-1, \n",
    "                   N2 is N-2, \n",
    "                   fibonacci(N1, F1), \n",
    "                   fibonacci(N2, F2), \n",
    "                   F is F1 + F2."
   ]
  },
  {
   "cell_type": "markdown",
   "id": "0ff6740d",
   "metadata": {},
   "source": [
    "<p style=\"font-size: 20px; text-align: justify;\"> <strong>Exemplo:</strong> Desenhe o grafo da base de dados e construa a regra para caminhar no grafo.</p>"
   ]
  },
  {
   "cell_type": "code",
   "execution_count": null,
   "id": "572ed9ea",
   "metadata": {},
   "outputs": [],
   "source": [
    "connected(1,2).\n",
    "connected(3,4).\n",
    "connected(5,6).\n",
    "connected(7,8).\n",
    "connected(9,10).\n",
    "connected(12,13).\n",
    "connected(13,14).\n",
    "connected(15,16).\n",
    "connected(17,18).\n",
    "connected(19,20).\n",
    "connected(4,1).\n",
    "connected(6,3).\n",
    "connected(4,7).\n",
    "connected(6,11).\n",
    "connected(14,9).\n",
    "connected(11,15).\n",
    "connected(16,12).\n",
    "connected(14,17).\n",
    "connected(16,19).\n",
    "\n",
    "path(X, Y) :- connected(X, Y).\n",
    "path(X, Y) :- connected(X, Z), path(Z, Y)."
   ]
  },
  {
   "cell_type": "markdown",
   "id": "91046876",
   "metadata": {},
   "source": [
    "<p style=\"font-size: 20px; text-align: justify;\"> Realize as seguintes consultas:</p>"
   ]
  },
  {
   "cell_type": "markdown",
   "id": "60822fe7",
   "metadata": {},
   "source": [
    "### Q1: Quais o vértices que o vértice 1 alcança?\n",
    "### Q2: Existe um caminho do vértice 4 para o vérice 16?\n",
    "### Q3: Existe um caminho do vértice 1 para o vértice 5 ou do vértice 5 para o vértice 1?\n",
    "### Q4: Quais os vértice que alcançam o vértice 20?"
   ]
  },
  {
   "cell_type": "markdown",
   "id": "ba2d30c7",
   "metadata": {},
   "source": [
    "<p style=\"font-size: 20px; text-align: justify; line-height: 1.6\"> <strong>Exemplo:</strong> Escreva um programa que faça a leitura de senhas até que seja digitada a senha correta. Para cada leitura de senha errada, exiba a mensagem \"Senha inválida!\". Quando a senha correta for digitada, exiba a mensagem \"Acesso liberado!\" e encerre o programa. Considere que a senha válida é qwter.</p>"
   ]
  },
  {
   "cell_type": "markdown",
   "id": "1a11b910",
   "metadata": {},
   "source": [
    "senha :- read(X), senha(X).\n",
    "\n",
    "senha(qwter) :- write('Acesso liberado'), !.\n",
    "senha(_) :- write('Senha inválida'), senha."
   ]
  },
  {
   "cell_type": "markdown",
   "id": "0ee1cc04",
   "metadata": {},
   "source": [
    "<p style=\"font-size: 20px; text-align: justify; line-height: 1.6\"> Nesse exemplo, estamos realizando a intração com o usuário a partir da leitura e escrita. No Prolog, <strong>read</strong> é utilizado para ler as informações digitadas pelo usuário e <strong>write</strong> para escrever as informações na tela.</p>"
   ]
  },
  {
   "cell_type": "markdown",
   "id": "d51949cd",
   "metadata": {},
   "source": [
    "<p style=\"font-size: 20px; text-align: justify; line-height: 1.6\"> <strong>Exercício</strong></p>"
   ]
  },
  {
   "cell_type": "markdown",
   "id": "9e531a88",
   "metadata": {},
   "source": [
    "<p style=\"font-size: 20px; text-align: justify; line-height: 1.6\"><strong>Q1:</strong> Construa a base de conhecimento da Figura 1.</p>"
   ]
  },
  {
   "cell_type": "markdown",
   "id": "9c8c3beb",
   "metadata": {},
   "source": [
    "<p style=\"font-size: 20px; text-align: justify; line-height: 1.6\"><strong>Q2:</strong> Construa a regra <strong>conhece(X, Y)</strong>. Uma pessoa conhece outra, se ela é amiga dessa pessoa direta ou indiretamente.</p>"
   ]
  },
  {
   "cell_type": "markdown",
   "id": "e723d703",
   "metadata": {},
   "source": [
    "<p style=\"font-size: 20px; text-align: justify; line-height: 1.6\"><strong>Q3:</strong></p>"
   ]
  }
 ],
 "metadata": {
  "kernelspec": {
   "display_name": "SWI-Prolog",
   "language": "",
   "name": "jswipl"
  },
  "language_info": {
   "mimetype": "text/plain",
   "name": "swipl"
  }
 },
 "nbformat": 4,
 "nbformat_minor": 5
}
