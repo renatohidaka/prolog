{
 "cells": [
  {
   "cell_type": "markdown",
   "id": "42623585",
   "metadata": {},
   "source": [
    "## Aula 01: Fatos, Regras e Consultas"
   ]
  },
  {
   "cell_type": "markdown",
   "id": "2f421891",
   "metadata": {},
   "source": [
    "<p style=\"font-size: 20px; text-align: justify;\"> <strong>Definição 01:</strong> Para escrever um programa em Prolog é necessário codificar uma base de conhecimento.</p>"
   ]
  },
  {
   "cell_type": "markdown",
   "id": "4a0f5e69",
   "metadata": {},
   "source": [
    "<p style=\"font-size: 20px; text-align: justify;\"> <strong>Definição 02:</strong> Uma base de conhecimento é formada por cláusulas.</p>"
   ]
  },
  {
   "cell_type": "markdown",
   "id": "6d925558",
   "metadata": {},
   "source": [
    "<p style=\"font-size: 20px; text-align: justify;\"> <strong>Definição 03:</strong>  Uma cláusula pode ser definida por um fato ou uma regra.</p>\n"
   ]
  },
  {
   "cell_type": "markdown",
   "id": "260d6269",
   "metadata": {},
   "source": [
    "<p style=\"font-size: 20px; text-align: justify;\"> <strong>Definição 04:</strong> Fatos são utilizados para construir cláusulas que são incodicionamente verdadeiras.</p>"
   ]
  },
  {
   "cell_type": "markdown",
   "id": "61281ee6",
   "metadata": {},
   "source": [
    "<p style=\"font-size: 20px; text-align: justify;\"> <strong>Definição 05:</strong> Os fatos são um meio de afirmar que existe uma relação entre os objetos.</p>"
   ]
  },
  {
   "cell_type": "markdown",
   "id": "d1dc6c4e",
   "metadata": {},
   "source": [
    "<p style=\"font-size: 20px; text-align: justify;\"> <strong>Sintaxe de um Fato:</strong> predicado(atomo,...,atomo).</p>"
   ]
  },
  {
   "cell_type": "markdown",
   "id": "2f2cb634",
   "metadata": {},
   "source": [
    "<p style=\"font-size: 20px; text-align: justify;\"> <strong>Exemplo 01:</strong></p>"
   ]
  },
  {
   "cell_type": "code",
   "execution_count": null,
   "id": "5da56a1e",
   "metadata": {},
   "outputs": [],
   "source": [
    "is_friend(jennifer, sally).\n",
    "is_friend(jennifer, ana).\n",
    "is_friend(ana, daniel).\n",
    "is_friend(mark, jennifer)."
   ]
  },
  {
   "cell_type": "markdown",
   "id": "c5128fd6",
   "metadata": {},
   "source": [
    "<p style=\"font-size: 20px; text-align: justify;\"> <strong>Com esse Exemplo, podemos fazer algumas consultas:</strong></p>"
   ]
  },
  {
   "cell_type": "markdown",
   "id": "69a6b07d",
   "metadata": {},
   "source": [
    "### **Q1:** Jennifer é amiga da Ana?\n",
    "### **Q2:** Mark é amigo da Jennifer?\n",
    "### **Q3:** Jennifer é amiga do Mark?\n",
    "### **Q4:** Jennifer é amigo de quem?\n",
    "### **Q5:** Quais as relações de amizades existentes?"
   ]
  },
  {
   "cell_type": "markdown",
   "id": "b76bf773",
   "metadata": {},
   "source": [
    "<p style=\"font-size: 20px; text-align: justify; line-height: 1.6\">Ao relizar uma consulta, podemos utilizar variáveis, por exemplo, a variável F. Nesse caso, será atribuído a F, todos os átomos que satisfazem a condição para que a cláusula seja verdadeira e retornada como resposta.</p>\n"
   ]
  },
  {
   "cell_type": "markdown",
   "id": "873f8ba7",
   "metadata": {},
   "source": [
    "<p style=\"font-size: 20px; text-align: justify; line-height: 1.6\">Em Prolog, as variáveis comuns devem iniciar com letra maiúscula. Caso você tente criar uma variável iniciando com letra minúscula, na verdade, o que você vai estar fazendo é cirando um átomo.</p>\n"
   ]
  },
  {
   "cell_type": "markdown",
   "id": "25767cde",
   "metadata": {},
   "source": [
    "<p style=\"font-size: 20px; text-align: justify;\"> <strong>Exemplo 02:</strong></p>"
   ]
  },
  {
   "cell_type": "code",
   "execution_count": null,
   "id": "0cb5c7a8",
   "metadata": {},
   "outputs": [],
   "source": [
    "homem(pedro).\n",
    "mulher(maria).\n",
    "pai(pedro, josé).\n",
    "pai(pedro, maria)."
   ]
  },
  {
   "cell_type": "markdown",
   "id": "995120e6",
   "metadata": {},
   "source": [
    "<p style=\"font-size: 20px; text-align: justify;\"> <strong>Com esse Exemplo, vamos fazer algumas consultas:</strong></p>"
   ]
  },
  {
   "cell_type": "markdown",
   "id": "5de9cc5b",
   "metadata": {},
   "source": [
    "### **Consulta 01:** Pedro é homem?\n",
    "### **Consulta 01:** Pedro é homem?\n",
    "### **Consulta 03:** Pedro é pai de José?\n",
    "### **Consulta 04:** Pedro é pai de quem?\n",
    "### **Consulta 05:** Quem é o pai de Maria?\n",
    "### **Consulta 06:** Quais são as relações de pai existente na base de conhecimento?\n",
    "### **Consulta 07:** José é irmão de Maria?"
   ]
  },
  {
   "cell_type": "markdown",
   "id": "8803f8b0",
   "metadata": {},
   "source": [
    "<p style=\"font-size: 20px; text-align: justify; line-height: 1.6\">Não é possível realizar a <strong>Consulta 07</strong>, uma vez que não existe na base de conhecimento nenhuma cláusula que tenha o predicado irmão.</p>\n",
    "\n"
   ]
  },
  {
   "cell_type": "markdown",
   "id": "93e98ab4",
   "metadata": {},
   "source": [
    "<p style=\"font-size: 20px; text-align: justify; line-height: 1.6\"><strong>Regra</strong> Diferentemente dos fados que são incodicionalmente verdadeiros, a regra é uma clásula condicionalmente verdadeira, ou seja, que pode ser verdadeira ou não.</p>\n",
    "    "
   ]
  },
  {
   "cell_type": "markdown",
   "id": "0163f2e1",
   "metadata": {},
   "source": [
    "<p style=\"font-size: 20px; text-align: justify; line-height: 1.6\"> <strong>Definição 06:</strong> Uma regra é formada por duas partes, denominadas cabeça e corpo. Sua sintaxe se dá da seguinte forma:</p>"
   ]
  },
  {
   "cell_type": "markdown",
   "id": "12ef21da",
   "metadata": {},
   "source": [
    "<p style=\"font-size: 20px; text-align: justify;\"> cabeça :- corpo.</p>"
   ]
  },
  {
   "cell_type": "markdown",
   "id": "51ee8e93",
   "metadata": {},
   "source": [
    "<p style=\"font-size: 20px; text-align: justify;\"> <strong>Definição 07:</strong> Uma regra só será verdadeira se a sua cabeça for verdadeira.</p>\n"
   ]
  },
  {
   "cell_type": "markdown",
   "id": "3b6b5129",
   "metadata": {},
   "source": [
    "<p style=\"font-size: 20px; text-align: justify; line-height: 1.6\"> <strong>Definição 08:</strong> A cabeça da regra só será verdadeira se o corpo for verdadeiro. Sendo assim, podemos considerar que a veracidade de uma regra é determinada pelo seu corpo.</p>\n"
   ]
  },
  {
   "cell_type": "markdown",
   "id": "22d233f6",
   "metadata": {},
   "source": [
    "<p style=\"font-size: 20px; text-align: justify; line-height: 1.6\"> O corpo de de uma regra pode ser formado por mais de uma cláusula da base de conhecimento. Quando este for o caso, entre as cláusulas do corpo de uma regra há a necessidade de utilização de um operador lógico de conjunção (E) ou disjunção (OU).</p>"
   ]
  },
  {
   "cell_type": "markdown",
   "id": "8dcf6ceb",
   "metadata": {},
   "source": [
    "<p style=\"font-size: 20px; text-align: justify; line-height: 1.6\">No Prolog, o operador de conjunção é representado pela vígurla e o operador de disjunção é representado pelo ponto e vírgula.</p>"
   ]
  },
  {
   "cell_type": "markdown",
   "id": "cf0a2c71",
   "metadata": {},
   "source": [
    "<p style=\"font-size: 20px; text-align: justify;\">Sabendo disso, vamos criar a nossa regra para determinar a relação de irmão.</p>"
   ]
  },
  {
   "cell_type": "markdown",
   "id": "85de9d33",
   "metadata": {},
   "source": [
    "<p style=\"font-size: 20px; text-align: justify;\"> <strong>Exemplo 03:</strong></p>"
   ]
  },
  {
   "cell_type": "code",
   "execution_count": null,
   "id": "14caa068",
   "metadata": {},
   "outputs": [],
   "source": [
    "homem(pedro).\n",
    "mulher(maria).\n",
    "pai(pedro, josé).\n",
    "pai(pedro, maria).\n",
    "\n",
    "irmão(X, Y) :- pai(P, X), pai(P, Y)."
   ]
  },
  {
   "cell_type": "markdown",
   "id": "045cd92d",
   "metadata": {},
   "source": [
    "<p style=\"font-size: 20px; text-align: justify;\">Agora vamos repetir a nossa <strong>Consulta 07:</strong> José é irmão de Maria?</p>"
   ]
  },
  {
   "cell_type": "markdown",
   "id": "9d0bc27f",
   "metadata": {},
   "source": [
    "<p style=\"font-size: 20px; text-align: justify;\">Vamos fazer mais algumas consultas:</p>"
   ]
  },
  {
   "cell_type": "markdown",
   "id": "81caef58",
   "metadata": {},
   "source": [
    "### **Consulta 08:** Maria é irmão de José?\n",
    "### **Consulta 09:** José é irmão dele mesmo?"
   ]
  },
  {
   "cell_type": "markdown",
   "id": "202ec9aa",
   "metadata": {},
   "source": [
    "<p style=\"font-size: 20px; text-align: justify; line-height: 1.6\">Na <strong>Consulta 09</strong>, temos um problema, pois, claramente, uma pessoa não é irmão dela mesma. Mas por que a resposta foi verdadeira para essa consulta?</p>"
   ]
  },
  {
   "cell_type": "markdown",
   "id": "424f561b",
   "metadata": {},
   "source": [
    "<p style=\"font-size: 20px; text-align: justify; line-height: 1.6\">A respota está na forma como o algoritmo backtracking que faz a varredura da base de conhecimento trabalha. Explicarei mais sobre ele em sala de aula.</p>"
   ]
  },
  {
   "cell_type": "markdown",
   "id": "3c23483a",
   "metadata": {},
   "source": [
    "<p style=\"font-size: 20px; text-align: justify; line-height: 1.6\">Para evitar que uma pessoa seja irmão dela mesma, devemos acrescentar mais uma cláusula para garantir que X seja diferente de Y. Podemos fazer isso da seguinte forma:</p>"
   ]
  },
  {
   "cell_type": "code",
   "execution_count": null,
   "id": "e2b19d48",
   "metadata": {},
   "outputs": [],
   "source": [
    "homem(pedro).\n",
    "mulher(maria).\n",
    "pai(pedro, josé).\n",
    "pai(pedro, maria).\n",
    "\n",
    "irmão(X, Y) :- pai(P, X), pai(P, Y), X \\== Y."
   ]
  },
  {
   "cell_type": "markdown",
   "id": "6162f067",
   "metadata": {},
   "source": [
    "<p style=\"font-size: 20px; text-align: justify; line-height: 1.6\">Agora, o corpo da nossa regra possui três partes, todas separadas pelo operador de conjunção (E). Em linguagem natural, a nossa regra pode ser lida da seguinte forma:</p>\n"
   ]
  },
  {
   "cell_type": "markdown",
   "id": "bdd58eb0",
   "metadata": {},
   "source": [
    "<p style=\"font-size: 20px; text-align: justify;\">X é irmão de Y, se P é pai de X e P é pai de Y e X é diferente de Y</p>"
   ]
  },
  {
   "cell_type": "markdown",
   "id": "dbe69ad7",
   "metadata": {},
   "source": [
    "<p style=\"font-size: 20px; text-align: justify; line-height: 1.6\">Quando o corpo da regra possui muitas cláusulas, por questão de melhor leitura do código, podemos utilizar o seguinte estilo:</p>"
   ]
  },
  {
   "cell_type": "code",
   "execution_count": null,
   "id": "1d2a449c",
   "metadata": {},
   "outputs": [],
   "source": [
    "homem(pedro).\n",
    "mulher(maria).\n",
    "pai(pedro, josé).\n",
    "pai(pedro, maria).\n",
    "\n",
    "irmão(X, Y) :- pai(P, X),\n",
    "               pai(P, Y), \n",
    "               X =\\= Y."
   ]
  },
  {
   "cell_type": "markdown",
   "id": "20efe74e",
   "metadata": {},
   "source": [
    "<p style=\"font-size: 20px; text-align: justify;\"><strong>Exercício:</strong> Vamos construir a base de conhecimento da Figura 1 da seguinte forma:</p>"
   ]
  },
  {
   "cell_type": "markdown",
   "id": "db528bb1",
   "metadata": {},
   "source": [
    "### **R1:** Crie os fatos para estabeler quem é homem e quem é mulher.\n",
    "### **R2:** Cire os fatos para estabeler as relações de pai e mãe.\n",
    "### **R3:** Crie a regra gerou(X,Y) tal que X gerou Y se X é pai ou mãe de Y.\n",
    "### **R4:** Crie a regra para estabeler a relação de irmão.\n",
    "### **R5:** Crie a regra para estabeler a relação de irmã.\n",
    "### **R6:** Crie a regra para estabeler a relação de tio.\n",
    "### **R7:** Crie a regra para estabeler a relação de tia.\n",
    "### **R8:** Crie a regra para estabeler a relação de avô.\n",
    "### **R9:** Crie a regra para estabeler a relação de avó\n",
    "### **R10:** Codifique as regras equivalentes a seguinte sentença: Um casal é formado por duas pessoas que têm filhos em comum.\n",
    "### **R11:** Codifique as regras equivalentes a seguinte sentença: Todo mundo que tem filhos é feliz."
   ]
  },
  {
   "cell_type": "markdown",
   "id": "6f72eedc",
   "metadata": {},
   "source": [
    "<p style=\"font-size: 20px; text-align: justify; line-height: 1.6\">Utilize a sua base de conhecimento e faça consultas. Analise se as suas consultas retornam os resultados esperados.</p>"
   ]
  }
 ],
 "metadata": {
  "kernelspec": {
   "display_name": "SWI-Prolog",
   "language": "",
   "name": "jswipl"
  },
  "language_info": {
   "mimetype": "text/plain",
   "name": "swipl"
  }
 },
 "nbformat": 4,
 "nbformat_minor": 5
}
